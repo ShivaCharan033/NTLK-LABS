{
  "nbformat": 4,
  "nbformat_minor": 0,
  "metadata": {
    "colab": {
      "provenance": []
    },
    "kernelspec": {
      "name": "python3",
      "display_name": "Python 3"
    },
    "language_info": {
      "name": "python"
    }
  },
  "cells": [
    {
      "cell_type": "markdown",
      "source": [
        "EXERCISE 1"
      ],
      "metadata": {
        "id": "UKoqyI1_Mmrr"
      }
    },
    {
      "cell_type": "code",
      "execution_count": 1,
      "metadata": {
        "colab": {
          "base_uri": "https://localhost:8080/",
          "height": 0
        },
        "id": "CipxnFpyMH7S",
        "outputId": "c9b4a97a-9ae7-4046-9872-48aabc920bea"
      },
      "outputs": [
        {
          "output_type": "stream",
          "name": "stdout",
          "text": [
            "Requirement already satisfied: nltk in /usr/local/lib/python3.10/dist-packages (3.9.1)\n",
            "Requirement already satisfied: click in /usr/local/lib/python3.10/dist-packages (from nltk) (8.1.7)\n",
            "Requirement already satisfied: joblib in /usr/local/lib/python3.10/dist-packages (from nltk) (1.4.2)\n",
            "Requirement already satisfied: regex>=2021.8.3 in /usr/local/lib/python3.10/dist-packages (from nltk) (2024.9.11)\n",
            "Requirement already satisfied: tqdm in /usr/local/lib/python3.10/dist-packages (from nltk) (4.66.6)\n"
          ]
        }
      ],
      "source": [
        "# Install any necessary library if needed\n",
        "!pip install nltk\n"
      ]
    },
    {
      "cell_type": "code",
      "source": [
        "# Define the translation dictionary\n",
        "translation_dict = {\n",
        "    \"anok\": \"pippat\", \"mok\": \"gat\", \"brok\": \"lat\", \"nok\": \"nnat\",\n",
        "    \"clok\": \"bat\", \"ok-drubel\": \"at-drubel\", \"crrrok\": \"(none?)\",\n",
        "    \"ok-voon\": \"at-voon\", \"drok\": \"sat\", \"ok-yurp\": \"at-yurp\",\n",
        "    \"enemok\": \"eneat\", \"ororok\": \"bichat\", \"erok\": \"totat\",\n",
        "    \"plok\": \"rrat\", \"farok\": \"jjat\", \"rarok\": \"forat\",\n",
        "    \"ghirok\": \"hilat\", \"sprok\": \"dat\", \"hihok\": \"arrat\",\n",
        "    \"stok\": \"cat\", \"izok\": \"vat\", \"wiwok\": \"totat\",\n",
        "    \"jok\": \"krat\", \"yorok\": \"mat\", \"kantok\": \"oloat\",\n",
        "    \"zanzanok\": \"zanzanat\", \"lalok\": \"wat\"\n",
        "}\n"
      ],
      "metadata": {
        "id": "ejT-rV0FMVZD"
      },
      "execution_count": 2,
      "outputs": []
    },
    {
      "cell_type": "code",
      "source": [
        "# Define sentences in the Centauri language\n",
        "centauri_sentences = [\n",
        "    \"lalok nok ok-voon sprok\",\n",
        "    \"lalok nok izok hihok anok plok ok-yurp\",\n",
        "    \"ok-drubel farok ororok lalok sprok izok hihok enemok\",\n",
        "    \"ok-voon rarok nok izok hihok mok ororok lalok izok hihok stok\",\n",
        "    \"wiwok farok izok stok jok stok\"\n",
        "]\n"
      ],
      "metadata": {
        "id": "xVzcdpCjMaXy"
      },
      "execution_count": 3,
      "outputs": []
    },
    {
      "cell_type": "code",
      "source": [
        "# Function to translate a sentence from Centauri to Arcturan\n",
        "def translate_sentence(sentence, translation_dict):\n",
        "    words = sentence.split()  # Split the sentence into words\n",
        "    translated_words = [translation_dict.get(word, word) for word in words]  # Translate each word\n",
        "    return \" \".join(translated_words)  # Join the translated words back into a sentence\n"
      ],
      "metadata": {
        "id": "t0SNQtwxMcX_"
      },
      "execution_count": 4,
      "outputs": []
    },
    {
      "cell_type": "code",
      "source": [
        "# Translate all sentences\n",
        "print(\"Translations from Centauri to Arcturan:\\n\")\n",
        "for i, sentence in enumerate(centauri_sentences, 1):\n",
        "    translation = translate_sentence(sentence, translation_dict)\n",
        "    print(f\"Sentence {i}: {sentence}\")\n",
        "    print(f\"Translation: {translation}\\n\")\n"
      ],
      "metadata": {
        "colab": {
          "base_uri": "https://localhost:8080/",
          "height": 0
        },
        "id": "5a8jRBevMeey",
        "outputId": "d086d703-ae1f-4d49-ef41-4f29ec09b101"
      },
      "execution_count": 5,
      "outputs": [
        {
          "output_type": "stream",
          "name": "stdout",
          "text": [
            "Translations from Centauri to Arcturan:\n",
            "\n",
            "Sentence 1: lalok nok ok-voon sprok\n",
            "Translation: wat nnat at-voon dat\n",
            "\n",
            "Sentence 2: lalok nok izok hihok anok plok ok-yurp\n",
            "Translation: wat nnat vat arrat pippat rrat at-yurp\n",
            "\n",
            "Sentence 3: ok-drubel farok ororok lalok sprok izok hihok enemok\n",
            "Translation: at-drubel jjat bichat wat dat vat arrat eneat\n",
            "\n",
            "Sentence 4: ok-voon rarok nok izok hihok mok ororok lalok izok hihok stok\n",
            "Translation: at-voon forat nnat vat arrat gat bichat wat vat arrat cat\n",
            "\n",
            "Sentence 5: wiwok farok izok stok jok stok\n",
            "Translation: totat jjat vat cat krat cat\n",
            "\n"
          ]
        }
      ]
    },
    {
      "cell_type": "markdown",
      "source": [
        "EXERCISE 2"
      ],
      "metadata": {
        "id": "cGdWojt7MrdD"
      }
    },
    {
      "cell_type": "code",
      "source": [
        "# Import the necessary libraries\n",
        "from nltk.translate.bleu_score import sentence_bleu\n"
      ],
      "metadata": {
        "id": "40dupaJtMgFK"
      },
      "execution_count": 6,
      "outputs": []
    },
    {
      "cell_type": "code",
      "source": [
        "# Define references and candidate translations\n",
        "references = [\n",
        "    [\"she ran across the field, and fortunately was just in time to see it pop down a large rabbit-hole\".split()],\n",
        "    [\"in another moment down went Alice after it\".split()],\n",
        "    [\"the rabbit-hole went straight on like a tunnel for some way\".split()],\n",
        "    [\"either the well was very deep, or she fell very slowly, for she had plenty of time as she went down\".split()],\n",
        "    [\"how brave they’ll all think me at home\".split()]\n",
        "]\n",
        "\n",
        "candidates = [\n",
        "    \"she run across the field, and fortunately was just in time to see it go down a large rabbit-hole\".split(),\n",
        "    \"in another monument down went Alice after it\".split(),\n",
        "    \"the rabbit whole was straight on like a tunnel for long time\".split(),\n",
        "    \"either the well was deeper, or she fall very slowly, for she had lots of time as she go down\".split(),\n",
        "    \"how brave they’ll all think me at home\".split()\n",
        "]\n"
      ],
      "metadata": {
        "id": "E21Q4vnVMy_G"
      },
      "execution_count": 7,
      "outputs": []
    },
    {
      "cell_type": "code",
      "source": [
        "# Define n-gram weights\n",
        "weights_list = [\n",
        "    (1, 0, 0, 0),  # Unigram BLEU\n",
        "    (0.5, 0.5, 0, 0),  # Bigram BLEU\n",
        "    (0.33, 0.33, 0.33, 0),  # Trigram BLEU\n",
        "    (0.25, 0.25, 0.25, 0.25)  # 4-gram BLEU\n",
        "]\n",
        "\n",
        "# Calculate BLEU scores for each reference-candidate pair\n",
        "for i, (ref, cand) in enumerate(zip(references, candidates), 1):\n",
        "    print(f\"--- Sentence Pair {i} ---\")\n",
        "    print(f\"Reference: {' '.join(ref[0])}\")\n",
        "    print(f\"Candidate: {' '.join(cand)}\")\n",
        "    for weights in weights_list:\n",
        "        score = sentence_bleu(ref, cand, weights=weights)\n",
        "        print(f\"BLEU score (weights {weights}): {score:.4f}\")\n",
        "    print(\"\\n\")\n"
      ],
      "metadata": {
        "colab": {
          "base_uri": "https://localhost:8080/",
          "height": 0
        },
        "id": "N9MbuC5EM1pO",
        "outputId": "7d76412c-b795-4fe5-81f8-6c3a3f87f866"
      },
      "execution_count": 8,
      "outputs": [
        {
          "output_type": "stream",
          "name": "stdout",
          "text": [
            "--- Sentence Pair 1 ---\n",
            "Reference: she ran across the field, and fortunately was just in time to see it pop down a large rabbit-hole\n",
            "Candidate: she run across the field, and fortunately was just in time to see it go down a large rabbit-hole\n",
            "BLEU score (weights (1, 0, 0, 0)): 0.8947\n",
            "BLEU score (weights (0.5, 0.5, 0, 0)): 0.8342\n",
            "BLEU score (weights (0.33, 0.33, 0.33, 0)): 0.7909\n",
            "BLEU score (weights (0.25, 0.25, 0.25, 0.25)): 0.7444\n",
            "\n",
            "\n",
            "--- Sentence Pair 2 ---\n",
            "Reference: in another moment down went Alice after it\n",
            "Candidate: in another monument down went Alice after it\n",
            "BLEU score (weights (1, 0, 0, 0)): 0.8750\n",
            "BLEU score (weights (0.5, 0.5, 0, 0)): 0.7906\n",
            "BLEU score (weights (0.33, 0.33, 0.33, 0)): 0.6812\n",
            "BLEU score (weights (0.25, 0.25, 0.25, 0.25)): 0.5946\n",
            "\n",
            "\n",
            "--- Sentence Pair 3 ---\n",
            "Reference: the rabbit-hole went straight on like a tunnel for some way\n",
            "Candidate: the rabbit whole was straight on like a tunnel for long time\n",
            "BLEU score (weights (1, 0, 0, 0)): 0.5833\n",
            "BLEU score (weights (0.5, 0.5, 0, 0)): 0.5149\n",
            "BLEU score (weights (0.33, 0.33, 0.33, 0)): 0.4769\n",
            "BLEU score (weights (0.25, 0.25, 0.25, 0.25)): 0.4336\n",
            "\n",
            "\n",
            "--- Sentence Pair 4 ---\n",
            "Reference: either the well was very deep, or she fell very slowly, for she had plenty of time as she went down\n",
            "Candidate: either the well was deeper, or she fall very slowly, for she had lots of time as she go down\n",
            "BLEU score (weights (1, 0, 0, 0)): 0.7610\n",
            "BLEU score (weights (0.5, 0.5, 0, 0)): 0.6474\n",
            "BLEU score (weights (0.33, 0.33, 0.33, 0)): 0.5403\n",
            "BLEU score (weights (0.25, 0.25, 0.25, 0.25)): 0.4316\n",
            "\n",
            "\n",
            "--- Sentence Pair 5 ---\n",
            "Reference: how brave they’ll all think me at home\n",
            "Candidate: how brave they’ll all think me at home\n",
            "BLEU score (weights (1, 0, 0, 0)): 1.0000\n",
            "BLEU score (weights (0.5, 0.5, 0, 0)): 1.0000\n",
            "BLEU score (weights (0.33, 0.33, 0.33, 0)): 1.0000\n",
            "BLEU score (weights (0.25, 0.25, 0.25, 0.25)): 1.0000\n",
            "\n",
            "\n"
          ]
        }
      ]
    },
    {
      "cell_type": "code",
      "source": [],
      "metadata": {
        "id": "zBmaHcCWM3kq"
      },
      "execution_count": null,
      "outputs": []
    }
  ]
}