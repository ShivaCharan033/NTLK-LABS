{
 "cells": [
  {
   "cell_type": "code",
   "execution_count": 1,
   "id": "f4e69939",
   "metadata": {},
   "outputs": [],
   "source": [
    "import re"
   ]
  },
  {
   "cell_type": "code",
   "execution_count": 5,
   "id": "c7b6935f",
   "metadata": {},
   "outputs": [],
   "source": [
    "# Several newspaper extracts from either British or American newspapers.\n",
    "string1 = \"The Championship League will be hosted in Oxford this Friday 28/07/2021 at Sandy Ln, Oxford OX4 6LJ. Phone +441865966900 to reserve today.\"\n",
    "string2 = \"The Federal government was critized on Monday 08/31/2021 for the mishandling of $20000 in a community account.\"\n",
    "string3 = \"Southampton Mayor set to retire at his new Hampshire address after his annual bonus. This Tuesday 18/08/2021 come and say goodbye.\"\n",
    "string4 = \"Bournemouth Theatre society now residing at Westover Rd, Bournemouth BH1 2BU. Enquires at +443005000595.\"\n",
    "string5 = \"This Friday 11/21/2021, come and see the President give an address at 1600 Pennsylvania Avenue NW, Washington, DC 20500. Let our voices be heard phone   609-693-3276.\"\n",
    "string6 = \"Texas is now the go to state. Ever since 01/18/2020 people can’t stop coming here. $400000 will no longer buy you a home in the 77494 region!\""
   ]
  },
  {
   "cell_type": "code",
   "execution_count": 9,
   "id": "02343fa0",
   "metadata": {},
   "outputs": [],
   "source": [
    "date_pattern = r'\\b\\d{5}(?:-\\d{4})?\\b'"
   ]
  },
  {
   "cell_type": "code",
   "execution_count": 10,
   "id": "0dfbeaf2",
   "metadata": {},
   "outputs": [
    {
     "name": "stdout",
     "output_type": "stream",
     "text": [
      "['$20000', '$400000']\n"
     ]
    }
   ],
   "source": [
    "import re\n",
    "\n",
    "# Regular expression to match USD values\n",
    "US_currency_pattern = r'\\$\\d+(?:,\\d{3})*(?:\\.\\d{2})?'\n",
    "\n",
    "# Extract USD values from each string\n",
    "US_currency = []\n",
    "for string in [string1, string2, string3, string4, string5, string6]:\n",
    "    US_currency.extend(re.findall(US_currency_pattern, string))\n",
    "\n",
    "print(US_currency)\n"
   ]
  },
  {
   "cell_type": "code",
   "execution_count": 11,
   "id": "a2face78",
   "metadata": {},
   "outputs": [
    {
     "name": "stdout",
     "output_type": "stream",
     "text": [
      "['20000', '20500', '77494']\n"
     ]
    }
   ],
   "source": [
    "US_zipcode_pattern = r'\\b\\d{5}(?:-\\d{4})?\\b'\n",
    "US_zipcodes = []\n",
    "for string in [string1, string2, string3, string4, string5, string6]:\n",
    "    US_zipcodes.extend(re.findall(US_zipcode_pattern, string))\n",
    "\n",
    "print(US_zipcodes)"
   ]
  },
  {
   "cell_type": "code",
   "execution_count": 12,
   "id": "9c0db436",
   "metadata": {},
   "outputs": [
    {
     "name": "stdout",
     "output_type": "stream",
     "text": [
      "['+441865966900', '+443005000595']\n"
     ]
    }
   ],
   "source": [
    "UK_phone_pattern = r'\\+44\\s?\\d{4}\\s?\\d{6}|\\+44\\s?\\d{3}\\s?\\d{7}'\n",
    "UK_phone_numbers = []\n",
    "for string in [string1, string2, string3, string4, string5, string6]:\n",
    "    UK_phone_numbers.extend(re.findall(UK_phone_pattern, string))\n",
    "\n",
    "print(UK_phone_numbers)\n"
   ]
  },
  {
   "cell_type": "code",
   "execution_count": 13,
   "id": "a5195055",
   "metadata": {},
   "outputs": [
    {
     "name": "stdout",
     "output_type": "stream",
     "text": [
      "[('28', '07'), ('18', '08')]\n"
     ]
    }
   ],
   "source": [
    "UK_date_pattern = r'\\b(0?[1-9]|[12][0-9]|3[01])/(0?[1-9]|1[0-2])/\\d{4}\\b'\n",
    "\n",
    "# Extract British dates from each string\n",
    "UK_dates = []\n",
    "for string in [string1, string2, string3, string4, string5, string6]:\n",
    "    UK_dates.extend(re.findall(UK_date_pattern, string))\n",
    "\n",
    "print(UK_dates)"
   ]
  },
  {
   "cell_type": "code",
   "execution_count": 14,
   "id": "cf1dbc5a",
   "metadata": {},
   "outputs": [
    {
     "name": "stdout",
     "output_type": "stream",
     "text": [
      "['OX4 6LJ', 'BH1 2BU']\n"
     ]
    }
   ],
   "source": [
    "UK_postcode_pattern = r'\\b[A-Z]{1,2}\\d{1,2}\\s?\\d?[A-Z]{2}\\b'\n",
    "UK_postcodes = []\n",
    "for string in [string1, string2, string3, string4, string5, string6]:\n",
    "    UK_postcodes.extend(re.findall(UK_postcode_pattern, string))\n",
    "\n",
    "print(UK_postcodes)"
   ]
  },
  {
   "cell_type": "code",
   "execution_count": null,
   "id": "26d2d85c",
   "metadata": {},
   "outputs": [],
   "source": []
  }
 ],
 "metadata": {
  "kernelspec": {
   "display_name": "Python 3 (ipykernel)",
   "language": "python",
   "name": "python3"
  },
  "language_info": {
   "codemirror_mode": {
    "name": "ipython",
    "version": 3
   },
   "file_extension": ".py",
   "mimetype": "text/x-python",
   "name": "python",
   "nbconvert_exporter": "python",
   "pygments_lexer": "ipython3",
   "version": "3.11.5"
  }
 },
 "nbformat": 4,
 "nbformat_minor": 5
}
