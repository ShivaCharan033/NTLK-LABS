{
 "cells": [
  {
   "cell_type": "markdown",
   "metadata": {
    "id": "pFVy4XbHr1Jn"
   },
   "source": [
    "# **Translate the Sentences**"
   ]
  },
  {
   "cell_type": "code",
   "execution_count": 1,
   "metadata": {
    "colab": {
     "base_uri": "https://localhost:8080/"
    },
    "id": "37Z3jZGvqex0",
    "outputId": "47898ae9-f5ca-4de9-e9de-66df49758fc1"
   },
   "outputs": [
    {
     "name": "stdout",
     "output_type": "stream",
     "text": [
      "Sentence 1 in English: the cat is on the table\n",
      "Sentence 2 in English: I have a brother and a sister\n",
      "Sentence 3 in English: I like to play soccer with my friends\n",
      "Sentence 4 in English: I want to read a book new\n",
      "Sentence 5 in English: tomorrow we will go to the beach\n"
     ]
    }
   ],
   "source": [
    "# Translation dictionary from Spanish to English\n",
    "translation_dict = {\n",
    "    \"el\": \"the\", \"gato\": \"cat\", \"está\": \"is\", \"sobre\": \"on\",\n",
    "    \"la\": \"the\", \"mesa\": \"table\", \"tengo\": \"I have\", \"un\": \"a\",\n",
    "    \"hermano\": \"brother\", \"y\": \"and\", \"una\": \"a\", \"hermana\": \"sister\",\n",
    "    \"me\": \"I\", \"gusta\": \"like\", \"jugar\": \"to play\", \"fútbol\": \"soccer\",\n",
    "    \"con\": \"with\", \"mis\": \"my\", \"amigos\": \"friends\", \"quiero\": \"I want\",\n",
    "    \"leer\": \"to read\", \"un\": \"a\", \"libro\": \"book\", \"nuevo\": \"new\",\n",
    "    \"mañana\": \"tomorrow\", \"iremos\": \"we will go\", \"a\": \"to\", \"la\": \"the\", \"playa\": \"beach\"\n",
    "}\n",
    "\n",
    "# List of sentences in Spanish\n",
    "spanish_sentences = [\n",
    "    \"el gato está sobre la mesa\",\n",
    "    \"tengo un hermano y una hermana\",\n",
    "    \"me gusta jugar fútbol con mis amigos\",\n",
    "    \"quiero leer un libro nuevo\",\n",
    "    \"mañana iremos a la playa\"\n",
    "]\n",
    "\n",
    "# Function to translate a sentence\n",
    "def translate(sentence, translation_dict):\n",
    "    words = sentence.split()\n",
    "    translated_words = [translation_dict.get(word, \"(unknown)\") for word in words]\n",
    "    return ' '.join(translated_words)\n",
    "\n",
    "# Translate each sentence and print the result\n",
    "for i, sentence in enumerate(spanish_sentences, 1):\n",
    "    print(f\"Sentence {i} in English:\", translate(sentence, translation_dict))\n"
   ]
  },
  {
   "cell_type": "markdown",
   "metadata": {
    "id": "zKUR5lfdsPdE"
   },
   "source": [
    "# **Calculating Bleu Score**"
   ]
  },
  {
   "cell_type": "code",
   "execution_count": 2,
   "metadata": {
    "colab": {
     "base_uri": "https://localhost:8080/"
    },
    "id": "RtoDEapwqw-e",
    "outputId": "81cc7016-e1ee-42aa-8a12-4e3d1720692c"
   },
   "outputs": [
    {
     "ename": "ModuleNotFoundError",
     "evalue": "No module named 'nltk'",
     "output_type": "error",
     "traceback": [
      "\u001b[0;31m---------------------------------------------------------------------------\u001b[0m",
      "\u001b[0;31mModuleNotFoundError\u001b[0m                       Traceback (most recent call last)",
      "Cell \u001b[0;32mIn[2], line 1\u001b[0m\n\u001b[0;32m----> 1\u001b[0m \u001b[38;5;28;01mfrom\u001b[39;00m \u001b[38;5;21;01mnltk\u001b[39;00m\u001b[38;5;21;01m.\u001b[39;00m\u001b[38;5;21;01mtranslate\u001b[39;00m\u001b[38;5;21;01m.\u001b[39;00m\u001b[38;5;21;01mbleu_score\u001b[39;00m \u001b[38;5;28;01mimport\u001b[39;00m sentence_bleu\n\u001b[1;32m      3\u001b[0m \u001b[38;5;66;03m# Reference and candidate translations\u001b[39;00m\n\u001b[1;32m      4\u001b[0m references \u001b[38;5;241m=\u001b[39m [\n\u001b[1;32m      5\u001b[0m     [\u001b[38;5;124m\"\u001b[39m\u001b[38;5;124mI went to the store to buy some groceries\u001b[39m\u001b[38;5;124m\"\u001b[39m],\n\u001b[1;32m      6\u001b[0m     [\u001b[38;5;124m\"\u001b[39m\u001b[38;5;124mShe loves playing the piano on weekends\u001b[39m\u001b[38;5;124m\"\u001b[39m],\n\u001b[0;32m   (...)\u001b[0m\n\u001b[1;32m      9\u001b[0m     [\u001b[38;5;124m\"\u001b[39m\u001b[38;5;124mWe enjoy watching movies on rainy days\u001b[39m\u001b[38;5;124m\"\u001b[39m]\n\u001b[1;32m     10\u001b[0m ]\n",
      "\u001b[0;31mModuleNotFoundError\u001b[0m: No module named 'nltk'"
     ]
    }
   ],
   "source": [
    "from nltk.translate.bleu_score import sentence_bleu\n",
    "\n",
    "# Reference and candidate translations\n",
    "references = [\n",
    "    [\"I went to the store to buy some groceries\"],\n",
    "    [\"She loves playing the piano on weekends\"],\n",
    "    [\"They took a long walk along the beach\"],\n",
    "    [\"He studies every night to improve his skills\"],\n",
    "    [\"We enjoy watching movies on rainy days\"]\n",
    "]\n",
    "\n",
    "candidates = [\n",
    "    \"I went to the shop to buy some groceries\",\n",
    "    \"She enjoys playing piano on weekends\",\n",
    "    \"They took a long walk by the beach\",\n",
    "    \"He studies every night to improve his abilities\",\n",
    "    \"We like watching movies on rainy days\"\n",
    "]\n",
    "\n",
    "# Function to calculate BLEU score with different n-gram weights\n",
    "def calculate_bleu(reference, candidate, weights):\n",
    "    return sentence_bleu([reference.split()], candidate.split(), weights=weights)\n",
    "\n",
    "# Calculate BLEU scores with different weights\n",
    "weights_options = [(1, 0, 0, 0), (0.5, 0.5, 0, 0), (0.33, 0.33, 0.33, 0), (0.25, 0.25, 0.25, 0.25)]\n",
    "for i, (ref, cand) in enumerate(zip(references, candidates), 1):\n",
    "    print(f\"BLEU scores for Sentence {i}:\")\n",
    "    for weights in weights_options:\n",
    "        score = calculate_bleu(ref[0], cand, weights)\n",
    "        print(f\"  Weights {weights}: {score:.4f}\")\n"
   ]
  },
  {
   "cell_type": "code",
   "execution_count": null,
   "metadata": {},
   "outputs": [],
   "source": []
  }
 ],
 "metadata": {
  "colab": {
   "provenance": []
  },
  "kernelspec": {
   "display_name": "Python 3 (ipykernel)",
   "language": "python",
   "name": "python3"
  },
  "language_info": {
   "codemirror_mode": {
    "name": "ipython",
    "version": 3
   },
   "file_extension": ".py",
   "mimetype": "text/x-python",
   "name": "python",
   "nbconvert_exporter": "python",
   "pygments_lexer": "ipython3",
   "version": "3.11.5"
  }
 },
 "nbformat": 4,
 "nbformat_minor": 4
}
